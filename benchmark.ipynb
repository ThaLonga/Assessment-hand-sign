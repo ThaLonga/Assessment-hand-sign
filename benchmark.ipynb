{
 "cells": [
  {
   "cell_type": "code",
   "execution_count": 12,
   "metadata": {},
   "outputs": [],
   "source": [
    "import mediapipe as mp\n",
    "mp_drawing = mp.solutions.drawing_utils\n",
    "mp_drawing_styles = mp.solutions.drawing_styles\n",
    "mphands = mp.solutions.hands\n",
    "from mediapipe.tasks import python\n",
    "from mediapipe.tasks.python import vision\n",
    "VisionRunningMode = mp.tasks.vision.RunningMode\n",
    "import os\n",
    "\n",
    "\n",
    "# STEP 2: Create an GestureRecognizer object.\n",
    "base_options = python.BaseOptions(model_asset_path='./models/gesture_recognizer.task')\n",
    "options = vision.GestureRecognizerOptions(base_options=base_options, running_mode=VisionRunningMode.IMAGE)\n",
    "recognizer = vision.GestureRecognizer.create_from_options(options)"
   ]
  },
  {
   "cell_type": "code",
   "execution_count": 38,
   "metadata": {},
   "outputs": [
    {
     "name": "stdout",
     "output_type": "stream",
     "text": [
      "<mediapipe.python._framework_bindings.image.Image object at 0x00000239DA7FFD10>\n",
      "<mediapipe.python._framework_bindings.image.Image object at 0x00000239D92ECC50>\n",
      "<mediapipe.python._framework_bindings.image.Image object at 0x00000239DA7FFC50>\n",
      "<mediapipe.python._framework_bindings.image.Image object at 0x00000239DA7FFFB0>\n",
      "<mediapipe.python._framework_bindings.image.Image object at 0x00000239DA7FF650>\n",
      "<mediapipe.python._framework_bindings.image.Image object at 0x00000239DA7FD310>\n",
      "<mediapipe.python._framework_bindings.image.Image object at 0x00000239DA7FD0D0>\n",
      "<mediapipe.python._framework_bindings.image.Image object at 0x00000239DA7FD3D0>\n",
      "<mediapipe.python._framework_bindings.image.Image object at 0x00000239DA7FD430>\n",
      "<mediapipe.python._framework_bindings.image.Image object at 0x00000239DA7FD4F0>\n"
     ]
    }
   ],
   "source": [
    "IMAGE_FILENAMES = [os.path.join(\"./data/benchmark/\",x) for x in os.listdir(\"./data/benchmark\")]\n",
    "images = []\n",
    "results = []\n",
    "for image_file_name in IMAGE_FILENAMES:\n",
    "  # STEP 3: Load the input image.\n",
    "  image = mp.Image.create_from_file(image_file_name)\n",
    "  print(image)  \n",
    "  # STEP 4: Recognize gestures in the input image.\n",
    "  recognition_result = recognizer.recognize(image)  \n",
    "  # STEP 5: Process the result. In this case, visualize it.\n",
    "  images.append(image)\n",
    "  if(recognition_result.gestures):\n",
    "    top_gesture = recognition_result.gestures[0][0].category_name\n",
    "  results.append(top_gesture)\n",
    "\n"
   ]
  },
  {
   "cell_type": "code",
   "execution_count": 46,
   "metadata": {},
   "outputs": [
    {
     "name": "stdout",
     "output_type": "stream",
     "text": [
      "['Closed_Fist', 'Closed_Fist', 'ILoveYou', 'None', 'Open_Palm', 'Pointing_Up', 'Thumb_Down', 'Thumb_Up', 'Victory', 'None']\n",
      "['Closed_Fist-1.jpg', 'Closed_Fist.jpg', 'ILoveYou.jpg', 'None.jpg', 'Open_Palm.jpg', 'Pointing_Up.jpg', 'Thumb_Down.jpg', 'Thumb_Up.jpg', 'Victory-1.jpg', 'Victory.jpg']\n"
     ]
    }
   ],
   "source": [
    "print(results)\n",
    "print(os.listdir(\"./data/benchmark\"))"
   ]
  },
  {
   "cell_type": "markdown",
   "metadata": {},
   "source": [
    "Compare detected gestures and real gestures"
   ]
  },
  {
   "cell_type": "code",
   "execution_count": 44,
   "metadata": {},
   "outputs": [
    {
     "data": {
      "text/plain": [
       "[True, True, True, True, True, True, True, True, True, False]"
      ]
     },
     "execution_count": 44,
     "metadata": {},
     "output_type": "execute_result"
    }
   ],
   "source": [
    "[results[i] in IMAGE_FILENAMES[i] for i in range(len(results))]"
   ]
  }
 ],
 "metadata": {
  "kernelspec": {
   "display_name": "cv",
   "language": "python",
   "name": "python3"
  },
  "language_info": {
   "codemirror_mode": {
    "name": "ipython",
    "version": 3
   },
   "file_extension": ".py",
   "mimetype": "text/x-python",
   "name": "python",
   "nbconvert_exporter": "python",
   "pygments_lexer": "ipython3",
   "version": "3.11.9"
  }
 },
 "nbformat": 4,
 "nbformat_minor": 2
}
